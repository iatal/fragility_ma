{
 "cells": [
  {
   "cell_type": "code",
   "execution_count": null,
   "metadata": {
    "collapsed": true
   },
   "outputs": [],
   "source": [
    "                    validate(\n",
    "                        #do we have all columns?\n",
    "                        need(length(dife)==0,paste(\"Missing column(s):\",paste(dife,collapse=\", \"))) %then%\n",
    "                        #is there at least 2 studies?\n",
    "                        need(nrow(dr)>1,\"Please provide data for at least 2 studies\") %then%\n",
    "                        #is there missing values?\n",
    "                        need(sum(is.na(dr[,c(\"STUDY_ID\",\"EVENTS_1\",\"EVENTS_2\",\"TOTAL_1\",\"TOTAL_2\")]))==0,\n",
    "                             \"Please provide data without NA values\") %then%\n",
    "                        #are all nb of events and sample size integer?\n",
    "                        need(is.integer(dr$EVENTS_1)*is.integer(dr$EVENTS_2)*\n",
    "                             is.integer(dr$TOTAL_1)*is.integer(dr$TOTAL_2)==1,\n",
    "                             paste(\"All numbers in \",\n",
    "                                   paste(c(\"EVENTS_1\",\"EVENTS_2\",\"TOTAL_1\",\"TOTAL_2\")[!c(is.integer(dr$EVENTS_1),\n",
    "                                                                                         is.integer(dr$EVENTS_2),\n",
    "                                                                                         is.integer(dr$TOTAL_1),\n",
    "                                                                                         is.integer(dr$TOTAL_2))],\n",
    "                                         collapse=\",\"),\n",
    "                                   \"should be positive integers!\",collapse=\" \")) %then%\n",
    "                        #are numbers positive?\n",
    "                        need(sum(dr$EVENTS_1<0)*sum(dr$EVENTS_2<0)*\n",
    "                             sum(dr$TOTAL_1<0)*sum(dr$TOTAL_2<0)==0,\n",
    "                             paste(\"All numbers in \",\n",
    "                                   paste(c(\"EVENTS_1\",\"EVENTS_2\",\"TOTAL_1\",\"TOTAL_2\")[c(sum(dr$EVENTS_1<0),\n",
    "                                                                                        sum(dr$EVENTS_2<0),\n",
    "                                                                                        sum(dr$TOTAL_1<0),\n",
    "                                                                                        sum(dr$TOTAL_2<0))!=0],\n",
    "                                         collapse=\",\"),\n",
    "                                   \"should be positive!\",collapse=\" \")) %then%\n",
    "                        #is there at least 1 event?\n",
    "                        need(sum(dr$EVENTS_1)+sum(dr$EVENTS_1)==0,\n",
    "                             \"Please provide data with at least 1 event in at least 1 arm\")   \n",
    "                    )\n"
   ]
  },
  {
   "cell_type": "code",
   "execution_count": 1,
   "metadata": {
    "collapsed": false
   },
   "outputs": [
    {
     "data": {
      "text/html": [
       "<ol class=list-inline>\n",
       "\t<li>'fragility_functions/fragility_non_sign_ma.R'</li>\n",
       "\t<li>'fragility_functions/fragility_sign_ma.R'</li>\n",
       "\t<li>'fragility_functions/revman_ma.R'</li>\n",
       "</ol>\n"
      ],
      "text/latex": [
       "\\begin{enumerate*}\n",
       "\\item 'fragility\\_functions/fragility\\_non\\_sign\\_ma.R'\n",
       "\\item 'fragility\\_functions/fragility\\_sign\\_ma.R'\n",
       "\\item 'fragility\\_functions/revman\\_ma.R'\n",
       "\\end{enumerate*}\n"
      ],
      "text/markdown": [
       "1. 'fragility_functions/fragility_non_sign_ma.R'\n",
       "2. 'fragility_functions/fragility_sign_ma.R'\n",
       "3. 'fragility_functions/revman_ma.R'\n",
       "\n",
       "\n"
      ],
      "text/plain": [
       "[1] \"fragility_functions/fragility_non_sign_ma.R\"\n",
       "[2] \"fragility_functions/fragility_sign_ma.R\"    \n",
       "[3] \"fragility_functions/revman_ma.R\"            "
      ]
     },
     "metadata": {},
     "output_type": "display_data"
    }
   ],
   "source": [
    "paste0(\"fragility_functions/\",list.files(\"fragility_functions/\"))"
   ]
  },
  {
   "cell_type": "code",
   "execution_count": 12,
   "metadata": {
    "collapsed": true
   },
   "outputs": [],
   "source": [
    "data <- read.csv(\"data/example0.csv\")"
   ]
  },
  {
   "cell_type": "code",
   "execution_count": 13,
   "metadata": {
    "collapsed": false
   },
   "outputs": [],
   "source": [
    "source(\"global.R\")\n",
    "rn1 <- function(x){\n",
    "    l <- strsplit(as.character(10*round(x,1)),\"\")\n",
    "    sapply(l,function(y){\n",
    "        if(length(y)==1) y <- c(\"0\",y)\n",
    "        paste(c(y[-length(y)],\".\",y[length(y)]),collapse=\"\")})\n",
    "}\n",
    "\n",
    "rn2 <- function(x){\n",
    "    l <- strsplit(as.character(100*round(x,2)),\"\")\n",
    "    sapply(l,function(y){\n",
    "        if(length(y)<3) y <- c(rep(\"0\",3-length(y)),y)\n",
    "        paste(c(y[-c(-1:0+length(y))],\".\",y[-1:0+length(y)]),collapse=\"\")})\n",
    "}"
   ]
  },
  {
   "cell_type": "code",
   "execution_count": 14,
   "metadata": {
    "collapsed": true
   },
   "outputs": [],
   "source": [
    "input <- list(method = \"IV\",random = \"NO\",measure = \"OR\")"
   ]
  },
  {
   "cell_type": "code",
   "execution_count": 15,
   "metadata": {
    "collapsed": true
   },
   "outputs": [],
   "source": [
    "meta1 <- \n",
    "    metabin(event.e=EVENTS_1, n.e=TOTAL_1, event.c=EVENTS_2, n.c=TOTAL_2,\n",
    "            studlab = STUDY_ID,\n",
    "            data = data,\n",
    "            method = ifelse(input$method==\"IV\",\"Inverse\",input$method),\n",
    "            sm=input$measure,\n",
    "            comb.random = input$random==\"YES\",\n",
    "            comb.fixed = input$random==\"NO\",\n",
    "            RR.cochrane = TRUE)"
   ]
  },
  {
   "cell_type": "code",
   "execution_count": 25,
   "metadata": {
    "collapsed": false
   },
   "outputs": [],
   "source": [
    "x <- exp(meta1$TE)"
   ]
  },
  {
   "cell_type": "code",
   "execution_count": 26,
   "metadata": {
    "collapsed": false
   },
   "outputs": [
    {
     "data": {
      "text/html": [
       "<ol class=list-inline>\n",
       "\t<li>0.247104247104247</li>\n",
       "\t<li>0.857142857142857</li>\n",
       "\t<li>0.380952380952381</li>\n",
       "\t<li>0.625</li>\n",
       "\t<li>0.257142857142857</li>\n",
       "\t<li>0.4325</li>\n",
       "\t<li>NA</li>\n",
       "\t<li>1.13333333333333</li>\n",
       "</ol>\n"
      ],
      "text/latex": [
       "\\begin{enumerate*}\n",
       "\\item 0.247104247104247\n",
       "\\item 0.857142857142857\n",
       "\\item 0.380952380952381\n",
       "\\item 0.625\n",
       "\\item 0.257142857142857\n",
       "\\item 0.4325\n",
       "\\item NA\n",
       "\\item 1.13333333333333\n",
       "\\end{enumerate*}\n"
      ],
      "text/markdown": [
       "1. 0.247104247104247\n",
       "2. 0.857142857142857\n",
       "3. 0.380952380952381\n",
       "4. 0.625\n",
       "5. 0.257142857142857\n",
       "6. 0.4325\n",
       "7. NA\n",
       "8. 1.13333333333333\n",
       "\n",
       "\n"
      ],
      "text/plain": [
       "[1] 0.2471042 0.8571429 0.3809524 0.6250000 0.2571429 0.4325000        NA\n",
       "[8] 1.1333333"
      ]
     },
     "metadata": {},
     "output_type": "display_data"
    }
   ],
   "source": [
    "x"
   ]
  },
  {
   "cell_type": "code",
   "execution_count": 30,
   "metadata": {
    "collapsed": false
   },
   "outputs": [
    {
     "data": {
      "text/html": [
       "<ol>\n",
       "\t<li><ol class=list-inline>\n",
       "\t<li>'2'</li>\n",
       "\t<li>'5'</li>\n",
       "</ol>\n",
       "</li>\n",
       "\t<li><ol class=list-inline>\n",
       "\t<li>'8'</li>\n",
       "\t<li>'6'</li>\n",
       "</ol>\n",
       "</li>\n",
       "\t<li><ol class=list-inline>\n",
       "\t<li>'3'</li>\n",
       "\t<li>'8'</li>\n",
       "</ol>\n",
       "</li>\n",
       "\t<li><ol class=list-inline>\n",
       "\t<li>'6'</li>\n",
       "\t<li>'2'</li>\n",
       "</ol>\n",
       "</li>\n",
       "\t<li><ol class=list-inline>\n",
       "\t<li>'2'</li>\n",
       "\t<li>'6'</li>\n",
       "</ol>\n",
       "</li>\n",
       "\t<li><ol class=list-inline>\n",
       "\t<li>'4'</li>\n",
       "\t<li>'3'</li>\n",
       "</ol>\n",
       "</li>\n",
       "\t<li>'NA'</li>\n",
       "\t<li><ol class=list-inline>\n",
       "\t<li>'1'</li>\n",
       "\t<li>'1'</li>\n",
       "\t<li>'3'</li>\n",
       "</ol>\n",
       "</li>\n",
       "</ol>\n"
      ],
      "text/latex": [
       "\\begin{enumerate}\n",
       "\\item \\begin{enumerate*}\n",
       "\\item '2'\n",
       "\\item '5'\n",
       "\\end{enumerate*}\n",
       "\n",
       "\\item \\begin{enumerate*}\n",
       "\\item '8'\n",
       "\\item '6'\n",
       "\\end{enumerate*}\n",
       "\n",
       "\\item \\begin{enumerate*}\n",
       "\\item '3'\n",
       "\\item '8'\n",
       "\\end{enumerate*}\n",
       "\n",
       "\\item \\begin{enumerate*}\n",
       "\\item '6'\n",
       "\\item '2'\n",
       "\\end{enumerate*}\n",
       "\n",
       "\\item \\begin{enumerate*}\n",
       "\\item '2'\n",
       "\\item '6'\n",
       "\\end{enumerate*}\n",
       "\n",
       "\\item \\begin{enumerate*}\n",
       "\\item '4'\n",
       "\\item '3'\n",
       "\\end{enumerate*}\n",
       "\n",
       "\\item 'NA'\n",
       "\\item \\begin{enumerate*}\n",
       "\\item '1'\n",
       "\\item '1'\n",
       "\\item '3'\n",
       "\\end{enumerate*}\n",
       "\n",
       "\\end{enumerate}\n"
      ],
      "text/markdown": [
       "1. 1. '2'\n",
       "2. '5'\n",
       "\n",
       "\n",
       "\n",
       "2. 1. '8'\n",
       "2. '6'\n",
       "\n",
       "\n",
       "\n",
       "3. 1. '3'\n",
       "2. '8'\n",
       "\n",
       "\n",
       "\n",
       "4. 1. '6'\n",
       "2. '2'\n",
       "\n",
       "\n",
       "\n",
       "5. 1. '2'\n",
       "2. '6'\n",
       "\n",
       "\n",
       "\n",
       "6. 1. '4'\n",
       "2. '3'\n",
       "\n",
       "\n",
       "\n",
       "7. 'NA'\n",
       "8. 1. '1'\n",
       "2. '1'\n",
       "3. '3'\n",
       "\n",
       "\n",
       "\n",
       "\n",
       "\n"
      ],
      "text/plain": [
       "[[1]]\n",
       "[1] \"2\" \"5\"\n",
       "\n",
       "[[2]]\n",
       "[1] \"8\" \"6\"\n",
       "\n",
       "[[3]]\n",
       "[1] \"3\" \"8\"\n",
       "\n",
       "[[4]]\n",
       "[1] \"6\" \"2\"\n",
       "\n",
       "[[5]]\n",
       "[1] \"2\" \"6\"\n",
       "\n",
       "[[6]]\n",
       "[1] \"4\" \"3\"\n",
       "\n",
       "[[7]]\n",
       "[1] NA\n",
       "\n",
       "[[8]]\n",
       "[1] \"1\" \"1\" \"3\"\n"
      ]
     },
     "metadata": {},
     "output_type": "display_data"
    }
   ],
   "source": [
    "    l <- strsplit(as.character(100*round(x,2)),\"\")\n",
    "l"
   ]
  },
  {
   "cell_type": "code",
   "execution_count": 31,
   "metadata": {
    "collapsed": true
   },
   "outputs": [],
   "source": [
    "rn2 <- function(x){\n",
    "    l <- strsplit(as.character(100*round(x,2)),\"\")\n",
    "    sapply(l,function(y){\n",
    "        if(sum(is.na(y))>0) return(\"\")\n",
    "        else{\n",
    "            if(length(y)<3) y <- c(rep(\"0\",3-length(y)),y)\n",
    "            paste(c(y[-c(-1:0+length(y))],\".\",y[-1:0+length(y)]),collapse=\"\")\n",
    "            }\n",
    "            })\n",
    "}"
   ]
  },
  {
   "cell_type": "code",
   "execution_count": 37,
   "metadata": {
    "collapsed": false
   },
   "outputs": [
    {
     "data": {
      "text/html": [
       "<ol class=list-inline>\n",
       "\t<li>'['</li>\n",
       "\t<li>'['</li>\n",
       "\t<li>'['</li>\n",
       "\t<li>'['</li>\n",
       "\t<li>'['</li>\n",
       "\t<li>'['</li>\n",
       "\t<li>'['</li>\n",
       "</ol>\n"
      ],
      "text/latex": [
       "\\begin{enumerate*}\n",
       "\\item '{[}'\n",
       "\\item '{[}'\n",
       "\\item '{[}'\n",
       "\\item '{[}'\n",
       "\\item '{[}'\n",
       "\\item '{[}'\n",
       "\\item '{[}'\n",
       "\\end{enumerate*}\n"
      ],
      "text/markdown": [
       "1. '['\n",
       "2. '['\n",
       "3. '['\n",
       "4. '['\n",
       "5. '['\n",
       "6. '['\n",
       "7. '['\n",
       "\n",
       "\n"
      ],
      "text/plain": [
       "[1] \"[\" \"[\" \"[\" \"[\" \"[\" \"[\" \"[\""
      ]
     },
     "metadata": {},
     "output_type": "display_data"
    }
   ],
   "source": []
  },
  {
   "cell_type": "code",
   "execution_count": 35,
   "metadata": {
    "collapsed": false
   },
   "outputs": [
    {
     "data": {
      "text/html": [
       "<ol class=list-inline>\n",
       "\t<li>'[0.25--0.25]'</li>\n",
       "\t<li>'[0.86--0.86]'</li>\n",
       "\t<li>'[0.38--0.38]'</li>\n",
       "\t<li>'[0.62--0.62]'</li>\n",
       "\t<li>'[0.26--0.26]'</li>\n",
       "\t<li>'[0.43--0.43]'</li>\n",
       "\t<li>'[--]'</li>\n",
       "\t<li>'[1.13--1.13]'</li>\n",
       "</ol>\n"
      ],
      "text/latex": [
       "\\begin{enumerate*}\n",
       "\\item '{[}0.25--0.25{]}'\n",
       "\\item '{[}0.86--0.86{]}'\n",
       "\\item '{[}0.38--0.38{]}'\n",
       "\\item '{[}0.62--0.62{]}'\n",
       "\\item '{[}0.26--0.26{]}'\n",
       "\\item '{[}0.43--0.43{]}'\n",
       "\\item '{[}--{]}'\n",
       "\\item '{[}1.13--1.13{]}'\n",
       "\\end{enumerate*}\n"
      ],
      "text/markdown": [
       "1. '[0.25--0.25]'\n",
       "2. '[0.86--0.86]'\n",
       "3. '[0.38--0.38]'\n",
       "4. '[0.62--0.62]'\n",
       "5. '[0.26--0.26]'\n",
       "6. '[0.43--0.43]'\n",
       "7. '[--]'\n",
       "8. '[1.13--1.13]'\n",
       "\n",
       "\n"
      ],
      "text/plain": [
       "[1] \"[0.25--0.25]\" \"[0.86--0.86]\" \"[0.38--0.38]\" \"[0.62--0.62]\" \"[0.26--0.26]\"\n",
       "[6] \"[0.43--0.43]\" \"[--]\"         \"[1.13--1.13]\""
      ]
     },
     "metadata": {},
     "output_type": "display_data"
    }
   ],
   "source": [
    "paste(rep(\"[\",length(meta1$event.e))[is.na(meta1$TE)],as.character(rn2(exp(meta1$TE))),\"--\",\n",
    "                   as.character(rn2(exp(meta1$TE))),\"]\",sep=\"\")"
   ]
  },
  {
   "cell_type": "code",
   "execution_count": 32,
   "metadata": {
    "collapsed": false
   },
   "outputs": [
    {
     "data": {
      "text/html": [
       "<ol class=list-inline>\n",
       "\t<li>'0.25'</li>\n",
       "\t<li>'0.86'</li>\n",
       "\t<li>'0.38'</li>\n",
       "\t<li>'0.62'</li>\n",
       "\t<li>'0.26'</li>\n",
       "\t<li>'0.43'</li>\n",
       "\t<li>''</li>\n",
       "\t<li>'1.13'</li>\n",
       "</ol>\n"
      ],
      "text/latex": [
       "\\begin{enumerate*}\n",
       "\\item '0.25'\n",
       "\\item '0.86'\n",
       "\\item '0.38'\n",
       "\\item '0.62'\n",
       "\\item '0.26'\n",
       "\\item '0.43'\n",
       "\\item ''\n",
       "\\item '1.13'\n",
       "\\end{enumerate*}\n"
      ],
      "text/markdown": [
       "1. '0.25'\n",
       "2. '0.86'\n",
       "3. '0.38'\n",
       "4. '0.62'\n",
       "5. '0.26'\n",
       "6. '0.43'\n",
       "7. ''\n",
       "8. '1.13'\n",
       "\n",
       "\n"
      ],
      "text/plain": [
       "[1] \"0.25\" \"0.86\" \"0.38\" \"0.62\" \"0.26\" \"0.43\" \"\"     \"1.13\""
      ]
     },
     "metadata": {},
     "output_type": "display_data"
    }
   ],
   "source": [
    "rn2(x)"
   ]
  },
  {
   "cell_type": "code",
   "execution_count": 22,
   "metadata": {
    "collapsed": false
   },
   "outputs": [
    {
     "data": {
      "text/html": [
       "<ol>\n",
       "\t<li><ol class=list-inline>\n",
       "\t<li>'-'</li>\n",
       "\t<li>'1'</li>\n",
       "\t<li>'4'</li>\n",
       "</ol>\n",
       "</li>\n",
       "\t<li><ol class=list-inline>\n",
       "\t<li>'-'</li>\n",
       "\t<li>'2'</li>\n",
       "</ol>\n",
       "</li>\n",
       "\t<li><ol class=list-inline>\n",
       "\t<li>'-'</li>\n",
       "\t<li>'1'</li>\n",
       "\t<li>'0'</li>\n",
       "</ol>\n",
       "</li>\n",
       "\t<li><ol class=list-inline>\n",
       "\t<li>'-'</li>\n",
       "\t<li>'5'</li>\n",
       "</ol>\n",
       "</li>\n",
       "\t<li><ol class=list-inline>\n",
       "\t<li>'-'</li>\n",
       "\t<li>'1'</li>\n",
       "\t<li>'4'</li>\n",
       "</ol>\n",
       "</li>\n",
       "\t<li><ol class=list-inline>\n",
       "\t<li>'-'</li>\n",
       "\t<li>'8'</li>\n",
       "</ol>\n",
       "</li>\n",
       "\t<li>'NA'</li>\n",
       "\t<li>'1'</li>\n",
       "</ol>\n"
      ],
      "text/latex": [
       "\\begin{enumerate}\n",
       "\\item \\begin{enumerate*}\n",
       "\\item '-'\n",
       "\\item '1'\n",
       "\\item '4'\n",
       "\\end{enumerate*}\n",
       "\n",
       "\\item \\begin{enumerate*}\n",
       "\\item '-'\n",
       "\\item '2'\n",
       "\\end{enumerate*}\n",
       "\n",
       "\\item \\begin{enumerate*}\n",
       "\\item '-'\n",
       "\\item '1'\n",
       "\\item '0'\n",
       "\\end{enumerate*}\n",
       "\n",
       "\\item \\begin{enumerate*}\n",
       "\\item '-'\n",
       "\\item '5'\n",
       "\\end{enumerate*}\n",
       "\n",
       "\\item \\begin{enumerate*}\n",
       "\\item '-'\n",
       "\\item '1'\n",
       "\\item '4'\n",
       "\\end{enumerate*}\n",
       "\n",
       "\\item \\begin{enumerate*}\n",
       "\\item '-'\n",
       "\\item '8'\n",
       "\\end{enumerate*}\n",
       "\n",
       "\\item 'NA'\n",
       "\\item '1'\n",
       "\\end{enumerate}\n"
      ],
      "text/markdown": [
       "1. 1. '-'\n",
       "2. '1'\n",
       "3. '4'\n",
       "\n",
       "\n",
       "\n",
       "2. 1. '-'\n",
       "2. '2'\n",
       "\n",
       "\n",
       "\n",
       "3. 1. '-'\n",
       "2. '1'\n",
       "3. '0'\n",
       "\n",
       "\n",
       "\n",
       "4. 1. '-'\n",
       "2. '5'\n",
       "\n",
       "\n",
       "\n",
       "5. 1. '-'\n",
       "2. '1'\n",
       "3. '4'\n",
       "\n",
       "\n",
       "\n",
       "6. 1. '-'\n",
       "2. '8'\n",
       "\n",
       "\n",
       "\n",
       "7. 'NA'\n",
       "8. '1'\n",
       "\n",
       "\n"
      ],
      "text/plain": [
       "[[1]]\n",
       "[1] \"-\" \"1\" \"4\"\n",
       "\n",
       "[[2]]\n",
       "[1] \"-\" \"2\"\n",
       "\n",
       "[[3]]\n",
       "[1] \"-\" \"1\" \"0\"\n",
       "\n",
       "[[4]]\n",
       "[1] \"-\" \"5\"\n",
       "\n",
       "[[5]]\n",
       "[1] \"-\" \"1\" \"4\"\n",
       "\n",
       "[[6]]\n",
       "[1] \"-\" \"8\"\n",
       "\n",
       "[[7]]\n",
       "[1] NA\n",
       "\n",
       "[[8]]\n",
       "[1] \"1\"\n"
      ]
     },
     "metadata": {},
     "output_type": "display_data"
    }
   ],
   "source": [
    "    l <- strsplit(as.character(10*round(x,1)),\"\")\n",
    "l"
   ]
  },
  {
   "cell_type": "code",
   "execution_count": null,
   "metadata": {
    "collapsed": true
   },
   "outputs": [],
   "source": []
  },
  {
   "cell_type": "code",
   "execution_count": 5,
   "metadata": {
    "collapsed": false
   },
   "outputs": [
    {
     "data": {
      "text/html": [
       "0"
      ],
      "text/latex": [
       "0"
      ],
      "text/markdown": [
       "0"
      ],
      "text/plain": [
       "[1] 0"
      ]
     },
     "metadata": {},
     "output_type": "display_data"
    }
   ],
   "source": [
    "meta1$I2"
   ]
  },
  {
   "cell_type": "code",
   "execution_count": 6,
   "metadata": {
    "collapsed": false
   },
   "outputs": [
    {
     "data": {
      "text/html": [
       "<table>\n",
       "<thead><tr><th></th><th scope=col>STUDY_ID</th><th scope=col>EVENTS_1</th><th scope=col>EVENTS_2</th><th scope=col>TOTAL_1</th><th scope=col>TOTAL_2</th></tr></thead>\n",
       "<tbody>\n",
       "\t<tr><th scope=row>1</th><td>Study1</td><td>11    </td><td>6     </td><td>40    </td><td>40    </td></tr>\n",
       "\t<tr><th scope=row>2</th><td>Study2</td><td>8     </td><td>5     </td><td>16    </td><td>16    </td></tr>\n",
       "\t<tr><th scope=row>3</th><td>Study3</td><td>9     </td><td>8     </td><td>13    </td><td>15    </td></tr>\n",
       "\t<tr><th scope=row>4</th><td>Study4</td><td>2     </td><td>0     </td><td>16    </td><td>15    </td></tr>\n",
       "</tbody>\n",
       "</table>\n"
      ],
      "text/latex": [
       "\\begin{tabular}{r|lllll}\n",
       "  & STUDY\\_ID & EVENTS\\_1 & EVENTS\\_2 & TOTAL\\_1 & TOTAL\\_2\\\\\n",
       "\\hline\n",
       "\t1 & Study1 & 11     & 6      & 40     & 40    \\\\\n",
       "\t2 & Study2 & 8      & 5      & 16     & 16    \\\\\n",
       "\t3 & Study3 & 9      & 8      & 13     & 15    \\\\\n",
       "\t4 & Study4 & 2      & 0      & 16     & 15    \\\\\n",
       "\\end{tabular}\n"
      ],
      "text/plain": [
       "  STUDY_ID EVENTS_1 EVENTS_2 TOTAL_1 TOTAL_2\n",
       "1   Study1       11        6      40      40\n",
       "2   Study2        8        5      16      16\n",
       "3   Study3        9        8      13      15\n",
       "4   Study4        2        0      16      15"
      ]
     },
     "metadata": {},
     "output_type": "display_data"
    }
   ],
   "source": [
    "data"
   ]
  },
  {
   "cell_type": "code",
   "execution_count": 7,
   "metadata": {
    "collapsed": true
   },
   "outputs": [],
   "source": [
    "data$EVENTS_1[1] <- data$EVENTS_1[1] - 10"
   ]
  },
  {
   "cell_type": "code",
   "execution_count": 8,
   "metadata": {
    "collapsed": true
   },
   "outputs": [],
   "source": [
    "meta1 <- \n",
    "    metabin(event.e=EVENTS_1, n.e=TOTAL_1, event.c=EVENTS_2, n.c=TOTAL_2,\n",
    "            studlab = STUDY_ID,\n",
    "            data = data,\n",
    "            method = ifelse(input$method==\"IV\",\"Inverse\",input$method),\n",
    "            sm=input$measure,\n",
    "            comb.random = input$random==\"YES\",\n",
    "            comb.fixed = input$random==\"NO\",\n",
    "            RR.cochrane = TRUE)"
   ]
  },
  {
   "cell_type": "code",
   "execution_count": 11,
   "metadata": {
    "collapsed": false
   },
   "outputs": [
    {
     "data": {
      "text/html": [
       "45"
      ],
      "text/latex": [
       "45"
      ],
      "text/markdown": [
       "45"
      ],
      "text/plain": [
       "[1] 45"
      ]
     },
     "metadata": {},
     "output_type": "display_data"
    }
   ],
   "source": [
    "round(100*meta1$I2)"
   ]
  },
  {
   "cell_type": "code",
   "execution_count": 10,
   "metadata": {
    "collapsed": false
   },
   "outputs": [
    {
     "data": {
      "image/png": "[encoded data removed]",
      "text/plain": [
       "plot without title"
      ]
     },
     "metadata": {},
     "output_type": "display_data"
    }
   ],
   "source": [
    "forest(meta1)"
   ]
  },
  {
   "cell_type": "code",
   "execution_count": 199,
   "metadata": {
    "collapsed": false
   },
   "outputs": [
    {
     "data": {
      "text/html": [
       "<ol class=list-inline>\n",
       "\t<li>11</li>\n",
       "\t<li>8</li>\n",
       "\t<li>9</li>\n",
       "\t<li>2</li>\n",
       "</ol>\n"
      ],
      "text/latex": [
       "\\begin{enumerate*}\n",
       "\\item 11\n",
       "\\item 8\n",
       "\\item 9\n",
       "\\item 2\n",
       "\\end{enumerate*}\n"
      ],
      "text/markdown": [
       "1. 11\n",
       "2. 8\n",
       "3. 9\n",
       "4. 2\n",
       "\n",
       "\n"
      ],
      "text/plain": [
       "[1] 11  8  9  2"
      ]
     },
     "metadata": {},
     "output_type": "display_data"
    }
   ],
   "source": [
    "meta1$event.e"
   ]
  },
  {
   "cell_type": "code",
   "execution_count": 201,
   "metadata": {
    "collapsed": false
   },
   "outputs": [
    {
     "data": {
      "text/html": [
       "<ol class=list-inline>\n",
       "\t<li>'Study1'</li>\n",
       "\t<li>'Study2'</li>\n",
       "\t<li>'Study3'</li>\n",
       "\t<li>'Study4'</li>\n",
       "</ol>\n"
      ],
      "text/latex": [
       "\\begin{enumerate*}\n",
       "\\item 'Study1'\n",
       "\\item 'Study2'\n",
       "\\item 'Study3'\n",
       "\\item 'Study4'\n",
       "\\end{enumerate*}\n"
      ],
      "text/markdown": [
       "1. 'Study1'\n",
       "2. 'Study2'\n",
       "3. 'Study3'\n",
       "4. 'Study4'\n",
       "\n",
       "\n"
      ],
      "text/plain": [
       "[1] \"Study1\" \"Study2\" \"Study3\" \"Study4\""
      ]
     },
     "metadata": {},
     "output_type": "display_data"
    }
   ],
   "source": [
    "meta1$studlab"
   ]
  },
  {
   "cell_type": "code",
   "execution_count": 206,
   "metadata": {
    "collapsed": false
   },
   "outputs": [
    {
     "data": {
      "text/html": [
       "'Inverse'"
      ],
      "text/latex": [
       "'Inverse'"
      ],
      "text/markdown": [
       "'Inverse'"
      ],
      "text/plain": [
       "[1] \"Inverse\""
      ]
     },
     "metadata": {},
     "output_type": "display_data"
    }
   ],
   "source": [
    "meta1$method"
   ]
  },
  {
   "cell_type": "code",
   "execution_count": 207,
   "metadata": {
    "collapsed": false
   },
   "outputs": [
    {
     "data": {
      "text/html": [
       "'OR'"
      ],
      "text/latex": [
       "'OR'"
      ],
      "text/markdown": [
       "'OR'"
      ],
      "text/plain": [
       "[1] \"OR\""
      ]
     },
     "metadata": {},
     "output_type": "display_data"
    }
   ],
   "source": [
    "meta1$sm"
   ]
  },
  {
   "cell_type": "code",
   "execution_count": 202,
   "metadata": {
    "collapsed": false
   },
   "outputs": [],
   "source": [
    "forest_plot <- function(meta1){\n",
    "    \n",
    "    n <- length(meta1$event.e)\n",
    "\n",
    "#    options(repr.plot.width=7, repr.plot.height=n/4.5 + 1)\n",
    "\n",
    "    par(mar = c(2,1,1,1))\n",
    "    layout(matrix(c(1,1,1,1,1,1,1,2,2,2), nrow = 1))\n",
    "\n",
    "    plot(c(-1,1),c(-0.5,n+2.5),type = \"n\", yaxt = \"n\", xaxt = \"n\", bty=\"n\")\n",
    "    text(\"Arm A\", x= -0.3, y = n+2, adj = 1, font = 2)\n",
    "    text(\"Arm B\", x= 0.1, y = n+2, adj = 1, font = 2)\n",
    "    text(\"Study\", x= -1, y = n+1, adj = 0, font = 2)\n",
    "    text(\"Events\", x= c(-0.5,-0.1), y = n+1, adj = 1, font = 2)\n",
    "    text(\"Totals\", x= c(-0.3,0.1), y = n+1, adj = 1, font = 2)    \n",
    "    text(\"Weight\", x= 0.4, y = n+1, adj = 1, font = 2)    \n",
    "    text(meta1$studlab, x= -1, y = n:1, adj = 0)\n",
    "    text(meta1$event.e, x= -0.5, y = n:1, adj = 1)\n",
    "    text(meta1$n.e, x= -0.3, y = n:1, adj = 1)\n",
    "    text(meta1$event.c, x= -0.1, y = n:1, adj = 1)\n",
    "    text(meta1$n.c, x= 0.1, y = n:1, adj = 1)\n",
    "    \n",
    "    if(meta1$comb.fixed==TRUE){\n",
    "        text(paste(rn1(100*meta1$w.fixed/sum(meta1$w.fixed)),\"%\",sep=\"\"),\n",
    "                   x= 0.4, y = n:1, adj = 1)\n",
    "        text(rn2(exp(meta1$TE.fixed)),x= 0.6, y = 0, adj = 1, font = 2)\n",
    "        text(paste(\"[\",as.character(rn2(exp(meta1$lower.fixed))),\"--\",\n",
    "                   as.character(rn2(exp(meta1$upper.fixed))),\"]\",sep=\"\"),\n",
    "                   x= 0.62, y = 0, adj = 0, font = 2)        \n",
    "        text(\"Fixed\", x= 0.8, y = n+1, adj = 0, font=2)\n",
    "    }\n",
    "\n",
    "    if(meta1$comb.random==TRUE){\n",
    "        text(paste(rn1(100*meta1$w.random/sum(meta1$w.random)),\"%\",sep=\"\"),\n",
    "                   x= 0.4, y = n:1, adj = 1)\n",
    "        text(rn2(exp(meta1$TE.random)),x= 0.6, y = 0, adj = 1, font = 2)\n",
    "        text(paste(\"[\",as.character(rn2(exp(meta1$lower.random))),\"--\",\n",
    "                   as.character(rn2(exp(meta1$upper.random))),\"]\",sep=\"\"),\n",
    "                   x= 0.62, y = 0, adj = 0, font = 2)        \n",
    "        text(\"Random\", x= 0.8, y = n+1, adj = 0, font=2)\n",
    "    }\n",
    "\n",
    "    text(rn2(exp(meta1$TE)),x= 0.6, y = n:1, adj = 1)\n",
    "    text(paste(\"[\",as.character(rn2(exp(meta1$lower))),\"--\",\n",
    "               as.character(rn2(exp(meta1$upper))),\"]\",sep=\"\"),\n",
    "               x= 0.62, y = n:1-0.03, adj = 0)\n",
    "\n",
    "    text(\"Total (95%CI)\", x= -1, y = 0, adj = 0, font=2)\n",
    "    text(sum(meta1$n.e), x= -0.3, y = 0, adj = 1, font = 2)\n",
    "    text(sum(meta1$n.c), x= 0.1, y = 0, adj = 1, font = 2)\n",
    "\n",
    "    text(meta1$sm, x= 0.6, y = n+2, adj = 0, font=2)\n",
    "    text(meta1$method, x= 0.6, y = n+1, adj = 0, font=2)\n",
    "\n",
    "    \n",
    "    plot(c(0.01,100),c(-0.5,n+2.5),log = \"x\", type = \"n\", yaxt = \"n\", xaxt = \"n\",bty = \"n\")\n",
    "    axis(1, at=c(0.01,0.1,1,10,100),labels=c(\"0.01\",\"0.1\",\"1\",\"10\",\"100\"))\n",
    "    text(meta1$sm, x= 1, y = n+2, adj = 0, font=2)\n",
    "    text(meta1$method, x= 1, y = n+1, adj = 0, font=2)\n",
    "    lines(x = c(1,1), y = c(-1,0.5+n))\n",
    "    \n",
    "    points(x = exp(meta1$TE), \n",
    "           y = n:1,pch = 3)\n",
    "    segments(x0 = exp(meta1$upper), x1 = exp(meta1$lower), y0 = n:1, y1 = n:1)\n",
    "\n",
    "    if(meta1$comb.fixed==TRUE){\n",
    "        lines(x = exp(c(meta1$TE.fixed,meta1$TE.fixed)), y = c(-1,0.5+n), lty = 3)\n",
    "        msq <- max(meta1$w.fixed)\n",
    "        rect(xleft = exp(meta1$TE - (meta1$w.fixed/msq)*0.5), \n",
    "             ybottom = n:1 - (meta1$w.fixed/msq)*0.48,\n",
    "             xright = exp(meta1$TE + (meta1$w.fixed/msq)*0.5), \n",
    "             ytop = n:1 + (meta1$w.fixed/msq)*0.45, col = \"blue\")\n",
    "        polygon(x =exp(c(meta1$TE.fixed,meta1$lower.fixed,meta1$TE.fixed,meta1$upper.fixed)), \n",
    "                y = c(-0.2,0,0.2,0), col=\"black\")        \n",
    "    }\n",
    "    \n",
    "    if(meta1$comb.random==TRUE){\n",
    "        lines(x = exp(c(meta1$TE.random,meta1$TE.random)), y = c(-1,0.5+n), lty = 3)\n",
    "        msq <- max(meta1$w.random)\n",
    "        rect(xleft = exp(meta1$TE - (meta1$w.random/msq)*0.5), \n",
    "             ybottom = n:1 - (meta1$w.random/msq)*0.48,\n",
    "             xright = exp(meta1$TE + (meta1$w.random/msq)*0.5), \n",
    "             ytop = n:1 + (meta1$w.random/msq)*0.45, col = \"blue\")\n",
    "        polygon(x =exp(c(meta1$TE.random,meta1$lower.random,meta1$TE.random,meta1$upper.random)), \n",
    "                y = c(-0.2,0,0.2,0), col=\"black\")        \n",
    "    }\n",
    "    \n",
    "}"
   ]
  },
  {
   "cell_type": "code",
   "execution_count": 203,
   "metadata": {
    "collapsed": false
   },
   "outputs": [
    {
     "data": {
      "image/png": "[encoded data removed]",
      "text/plain": [
       "plot without title"
      ]
     },
     "metadata": {},
     "output_type": "display_data"
    }
   ],
   "source": [
    "forest_plot(meta1)"
   ]
  },
  {
   "cell_type": "code",
   "execution_count": 195,
   "metadata": {
    "collapsed": true
   },
   "outputs": [],
   "source": [
    "data2 <- rbind(data,data)\n",
    "meta2 <- \n",
    "    metabin(event.e=EVENTS_1, n.e=TOTAL_1, event.c=EVENTS_2, n.c=TOTAL_2,\n",
    "            studlab = STUDY_ID,\n",
    "            data = data2,\n",
    "            method = ifelse(input$method==\"IV\",\"Inverse\",input$method),\n",
    "            sm=input$measure,\n",
    "            comb.random = input$random==\"YES\",\n",
    "            comb.fixed = input$random==\"NO\",\n",
    "            RR.cochrane = TRUE)"
   ]
  },
  {
   "cell_type": "code",
   "execution_count": 196,
   "metadata": {
    "collapsed": false
   },
   "outputs": [
    {
     "data": {
      "image/png": "[encoded data removed]",
      "text/plain": [
       "plot without title"
      ]
     },
     "metadata": {},
     "output_type": "display_data"
    }
   ],
   "source": [
    "forest_plot(data2,meta2)"
   ]
  },
  {
   "cell_type": "code",
   "execution_count": 197,
   "metadata": {
    "collapsed": false
   },
   "outputs": [
    {
     "data": {
      "image/png": "[encoded data removed]",
      "text/plain": [
       "plot without title"
      ]
     },
     "metadata": {},
     "output_type": "display_data"
    }
   ],
   "source": [
    "    options(repr.plot.width=10, repr.plot.height=5)\n",
    "forest(meta1, layout=\"RevMan5\")"
   ]
  },
  {
   "cell_type": "code",
   "execution_count": 81,
   "metadata": {
    "collapsed": false
   },
   "outputs": [
    {
     "data": {
      "text/html": [
       "<ol class=list-inline>\n",
       "\t<li>3.11070745697897</li>\n",
       "\t<li>1.79347826086957</li>\n",
       "\t<li>1.58990536277603</li>\n",
       "\t<li>0.422522413375333</li>\n",
       "</ol>\n"
      ],
      "text/latex": [
       "\\begin{enumerate*}\n",
       "\\item 3.11070745697897\n",
       "\\item 1.79347826086957\n",
       "\\item 1.58990536277603\n",
       "\\item 0.422522413375333\n",
       "\\end{enumerate*}\n"
      ],
      "text/markdown": [
       "1. 3.11070745697897\n",
       "2. 1.79347826086957\n",
       "3. 1.58990536277603\n",
       "4. 0.422522413375333\n",
       "\n",
       "\n"
      ],
      "text/plain": [
       "[1] 3.1107075 1.7934783 1.5899054 0.4225224"
      ]
     },
     "metadata": {},
     "output_type": "display_data"
    }
   ],
   "source": [
    "meta1$w.fixed"
   ]
  },
  {
   "cell_type": "code",
   "execution_count": 76,
   "metadata": {
    "collapsed": false
   },
   "outputs": [],
   "source": [
    "?rect"
   ]
  },
  {
   "cell_type": "code",
   "execution_count": 61,
   "metadata": {
    "collapsed": false
   },
   "outputs": [
    {
     "data": {
      "text/html": [
       "FALSE"
      ],
      "text/latex": [
       "FALSE"
      ],
      "text/markdown": [
       "FALSE"
      ],
      "text/plain": [
       "[1] FALSE"
      ]
     },
     "metadata": {},
     "output_type": "display_data"
    }
   ],
   "source": [
    "meta1$"
   ]
  },
  {
   "cell_type": "code",
   "execution_count": 34,
   "metadata": {
    "collapsed": true
   },
   "outputs": [],
   "source": [
    "?forest"
   ]
  },
  {
   "cell_type": "code",
   "execution_count": 29,
   "metadata": {
    "collapsed": true
   },
   "outputs": [],
   "source": [
    "?segments"
   ]
  },
  {
   "cell_type": "code",
   "execution_count": null,
   "metadata": {
    "collapsed": true
   },
   "outputs": [],
   "source": [
    "p <- ggplot(DAT, aes(x = cat_ev, y = FI, fill = S)) +\n",
    "        geom_boxplot() +\n",
    "        scale_y_log10(name = \"\",breaks = c(1,2,3,5,10,20,50,100,1000)\n",
    "                       ) +\n",
    "        scale_x_discrete(name = \"Number of events\") +\n",
    "        theme_bw() +\n",
    "        theme(plot.title = element_text(size = 14, face = \"bold\"),\n",
    "              text = element_text(size = 12),\n",
    "              axis.title = element_text(face=\"bold\"),\n",
    "              axis.text.x=element_text(size = 11))  +\n",
    "        scale_fill_manual(values = c(\"white\",colfunc(2)))\n"
   ]
  },
  {
   "cell_type": "code",
   "execution_count": null,
   "metadata": {
    "collapsed": true
   },
   "outputs": [],
   "source": []
  }
 ],
 "metadata": {
  "kernelspec": {
   "display_name": "R",
   "language": "R",
   "name": "ir"
  },
  "language_info": {
   "codemirror_mode": "r",
   "file_extension": ".r",
   "mimetype": "text/x-r-source",
   "name": "R",
   "pygments_lexer": "r",
   "version": "3.3.1"
  }
 },
 "nbformat": 4,
 "nbformat_minor": 1
}
